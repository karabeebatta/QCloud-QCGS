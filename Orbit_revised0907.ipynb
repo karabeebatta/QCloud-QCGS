{
 "cells": [
  {
   "cell_type": "code",
   "execution_count": 1,
   "metadata": {},
   "outputs": [
    {
     "data": {
      "text/plain": [
       "'\\nThis code generates the orbit file for quantum satellite communication\\nLast Modified: 2021-09-07\\nAuthor: Abhijeet Alase, Karabee Batta, Ziheng Chang, Daniel Oblak\\n\\nVariable inputs:\\nsat_num: the satellite number of interest\\ngs: location of the ground station\\nt0, t1: defines the time range that we look for satellite passes\\nti, tf: defines the start time and end time of one satellite pass (obtain this info from the previous step)\\n\\n'"
      ]
     },
     "execution_count": 1,
     "metadata": {},
     "output_type": "execute_result"
    }
   ],
   "source": [
    "'''\n",
    "This code generates the orbit file for quantum satellite communication\n",
    "Last Modified: 2021-09-07\n",
    "Author: Abhijeet Alase, Karabee Batta, Ziheng Chang, Daniel Oblak\n",
    "\n",
    "Variable inputs:\n",
    "sat_num: the satellite number of interest\n",
    "gs: location of the ground station\n",
    "t0, t1: defines the time range that we look for satellite passes\n",
    "ti, tf: defines the start time and end time of one satellite pass (obtain this info from the previous step)\n",
    "\n",
    "'''"
   ]
  },
  {
   "cell_type": "code",
   "execution_count": 2,
   "metadata": {},
   "outputs": [],
   "source": [
    "#Import functions and libraries\n",
    "from skyfield.api import load, wgs84\n",
    "from skyfield.api import EarthSatellite\n",
    "from datetime import timedelta\n",
    "import numpy as np"
   ]
  },
  {
   "cell_type": "code",
   "execution_count": 3,
   "metadata": {},
   "outputs": [
    {
     "name": "stdout",
     "output_type": "stream",
     "text": [
      "QSS (MOZI) catalog #41731 epoch 2021-09-06 20:15:12 UTC\n"
     ]
    }
   ],
   "source": [
    "sat_num = 41731 #satellite number for Micius\n",
    "gs = wgs84.latlon(+51.049999, -114.066666) #location of Calgary ground station\n",
    "gs = wgs84.latlon(+51.078621, -114.136719) #location of ground station (University of Calgary)  \n",
    "\n",
    "ts = load.timescale()\n",
    "stations_url = 'http://celestrak.com/NORAD/elements/active.txt'\n",
    "satellites = load.tle_file(stations_url)\n",
    "by_number = {sat.model.satnum: sat for sat in satellites}\n",
    "satellite = by_number[sat_num]\n",
    "print(satellite)\n",
    "\n",
    "difference = satellite - gs"
   ]
  },
  {
   "cell_type": "code",
   "execution_count": 4,
   "metadata": {},
   "outputs": [
    {
     "name": "stdout",
     "output_type": "stream",
     "text": [
      "[4495.88673827 -837.48853402 5117.60907811]\n",
      "[605.92723393 196.81874565 186.62025806]\n",
      "The ISS is above the horizon\n",
      "Altitude: 46.545425 deg\n",
      "Azimuth: 130.697647 deg\n",
      "Distance: 663.9 km\n",
      "Height: 497.1 km\n"
     ]
    }
   ],
   "source": [
    "#Condition of the satellite now\n",
    "t = ts.now()\n",
    "geocentric = satellite.at(t)\n",
    "print(geocentric.position.km)\n",
    "\n",
    "subpoint = wgs84.subpoint(geocentric)\n",
    "topocentric = difference.at(t)\n",
    "print(topocentric.position.km)\n",
    "alt, az, distance = topocentric.altaz()\n",
    "\n",
    "if alt.degrees > 0:\n",
    "    print('The ISS is above the horizon')\n",
    "\n",
    "print('Altitude: {:.6f} deg'.format(alt.degrees))\n",
    "print('Azimuth: {:.6f} deg'.format(az.degrees))\n",
    "print('Distance: {:.1f} km'.format(distance.km))\n",
    "print('Height: {:.1f} km'.format(subpoint.elevation.km))"
   ]
  },
  {
   "cell_type": "code",
   "execution_count": 5,
   "metadata": {},
   "outputs": [
    {
     "name": "stdout",
     "output_type": "stream",
     "text": [
      "2021 Sep 04 07:04:18 Reaches altitude 15°\n",
      "2021 Sep 04 07:06:39 Maximum altitude\n",
      "2021 Sep 04 07:08:58 Drops below altitude 15°\n",
      "2021 Sep 04 08:37:51 Reaches altitude 15°\n",
      "2021 Sep 04 08:40:09 Maximum altitude\n",
      "2021 Sep 04 08:42:25 Drops below altitude 15°\n",
      "2021 Sep 04 17:45:45 Reaches altitude 15°\n",
      "2021 Sep 04 17:47:57 Maximum altitude\n",
      "2021 Sep 04 17:50:10 Drops below altitude 15°\n",
      "2021 Sep 04 19:18:57 Reaches altitude 15°\n",
      "2021 Sep 04 19:21:24 Maximum altitude\n",
      "2021 Sep 04 19:23:53 Drops below altitude 15°\n"
     ]
    }
   ],
   "source": [
    "#Find pass times for a certain time range\n",
    "t0 = ts.utc(2021,9,4) #start time\n",
    "t1 = ts.utc(2021,9,5) #end time\n",
    "t, events = satellite.find_events(gs, t0, t1, altitude_degrees=15.0)\n",
    "for ti, event in zip(t, events):\n",
    "    name = ('Reaches altitude 15°', 'Maximum altitude', 'Drops below altitude 15°')[event]\n",
    "    print(ti.utc_strftime('%Y %b %d %H:%M:%S'), name)"
   ]
  },
  {
   "cell_type": "code",
   "execution_count": 6,
   "metadata": {},
   "outputs": [],
   "source": [
    "#Initialization\n",
    "ti = ts.utc(2021, 9, 4, 8, 37, 52) #start time\n",
    "tf = ts.utc(2021, 9, 4, 8, 42, 25) #end time\n",
    "n = 10000 #max time steps (just a large number, useful for testing purposes)\n",
    "i = 0 #initialize index\n",
    "t_step = ti #initialize time step\n",
    "result = [1,1,1,1,1,1,1,1,1] #initialize the result matrix (this first line will be deleted)"
   ]
  },
  {
   "cell_type": "code",
   "execution_count": 7,
   "metadata": {},
   "outputs": [],
   "source": [
    "#Loop to generate result matrix (main part of code)\n",
    "while i < n:\n",
    "    #Calculate needed values\n",
    "    geocentric = satellite.at(t_step)\n",
    "    subpoint = wgs84.subpoint(geocentric)\n",
    "    topocentric = difference.at(t_step)\n",
    "    alt, az, distance = topocentric.altaz()\n",
    "    #Input the data to the matrix\n",
    "    new_data = [sat_num, int(t_step.utc_strftime('%Y%m%d')), int(t_step.utc_strftime('%H%M%S000')), az.degrees,\n",
    "            0, alt.degrees, 0, distance.km, subpoint.elevation.km]\n",
    "    result = np.vstack((result,new_data))\n",
    "    #Advance the time step by 1 second\n",
    "    t_step = ts.utc(t_step.utc_datetime() + timedelta(seconds=1))\n",
    "    #If end time is reached, finish the loop\n",
    "    if t_step == tf:\n",
    "        break\n",
    "    #Increment the index\n",
    "    i = i + 1"
   ]
  },
  {
   "cell_type": "code",
   "execution_count": 8,
   "metadata": {},
   "outputs": [],
   "source": [
    "#Output\n",
    "result = np.delete(result, (0), axis=0) #delete the first line\n",
    "fmt = ['%05d', '%08d', '%09d', '%1.6f', '%1.6f', '%1.6f', '%1.6f', '%1.6f', '%1.2f'] #set the required format\n",
    "title = int(ti.utc_strftime('%Y%m%d')) #yyyymmdd for title\n",
    "np.savetxt('X{0}_Cal.dat'.format(title), result, fmt=fmt) #output the .dat orbit file"
   ]
  },
  {
   "cell_type": "code",
   "execution_count": null,
   "metadata": {},
   "outputs": [],
   "source": []
  }
 ],
 "metadata": {
  "kernelspec": {
   "display_name": "Python 3",
   "language": "python",
   "name": "python3"
  },
  "language_info": {
   "codemirror_mode": {
    "name": "ipython",
    "version": 3
   },
   "file_extension": ".py",
   "mimetype": "text/x-python",
   "name": "python",
   "nbconvert_exporter": "python",
   "pygments_lexer": "ipython3",
   "version": "3.8.3"
  }
 },
 "nbformat": 4,
 "nbformat_minor": 4
}
